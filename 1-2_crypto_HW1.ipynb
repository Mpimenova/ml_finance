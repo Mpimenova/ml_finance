{
 "cells": [
  {
   "cell_type": "markdown",
   "id": "631d7b2a-ab22-46dd-845c-b5dd9bcb10f2",
   "metadata": {},
   "source": [
    "<font size=\"+1\" color=\"#108fff\" face=\"Arial\">1. Создать код на Python, который загрузит на локальный компьютер данные о котировках заданных пар криптовалют.</font> "
   ]
  },
  {
   "cell_type": "code",
   "execution_count": 5,
   "id": "998989b2-d584-47ca-b946-1aed6b14ff21",
   "metadata": {},
   "outputs": [],
   "source": [
    "#Базовые библиотеки\n",
    "import pandas as pd\n",
    "import numpy as np\n",
    "from datetime import datetime"
   ]
  },
  {
   "cell_type": "markdown",
   "id": "a5c3f721-79db-43c1-aeb7-51c00a401d85",
   "metadata": {},
   "source": [
    "<font color=\"#108fff\" face=\"Arial\">1.1. Задать <br>-список криптовалютных пар; <br>-начальную дату для загрузки;<br>-интервал.</font>"
   ]
  },
  {
   "cell_type": "code",
   "execution_count": 73,
   "id": "38dee58a-97c1-4cb6-aea0-093542ff8a67",
   "metadata": {},
   "outputs": [],
   "source": [
    "pairs = ['BTC/USDT', 'ETH/USDT', 'SOL/USDT', 'XRP/USDT'] #,'FDUSD/USDT'\n",
    "Stdate = datetime(2024, 8, 8)\n",
    "Edate = datetime(2024, 8, 23)\n",
    "Datediff = Edate - Stdate\n",
    "limit = abs(Datediff.days) + 1\n",
    "period = '1d'"
   ]
  },
  {
   "cell_type": "markdown",
   "id": "dc7dd395-179e-4d8b-a45d-248ef0b4ec62",
   "metadata": {},
   "source": [
    "<font color=\"#108fff\" face=\"Arial\">1.2. Получить исторические данные по выбранным парам.</font>"
   ]
  },
  {
   "cell_type": "code",
   "execution_count": 9,
   "id": "e0a5e893-54ce-40f8-9ee2-c4ba9c16b805",
   "metadata": {},
   "outputs": [],
   "source": [
    "!pip install ccxt -qq\n",
    "import ccxt"
   ]
  },
  {
   "cell_type": "code",
   "execution_count": 11,
   "id": "e75b96ff-2d6f-4688-b445-fbfce5492269",
   "metadata": {},
   "outputs": [],
   "source": [
    "# Установить биржу для исторических данных.\n",
    "exchange = ccxt.binance()"
   ]
  },
  {
   "cell_type": "code",
   "execution_count": 83,
   "id": "996fec19-bd92-462a-bc5a-4f5b6bcc03bb",
   "metadata": {},
   "outputs": [
    {
     "name": "stdout",
     "output_type": "stream",
     "text": [
      "Fetching data for BTC/USDT since 2024-08-08 00:00:00...\n",
      "Fetching data for ETH/USDT since 2024-08-08 00:00:00...\n",
      "Fetching data for SOL/USDT since 2024-08-08 00:00:00...\n",
      "Fetching data for XRP/USDT since 2024-08-08 00:00:00...\n",
      "Fetching data for FDUSD/USDT since 2024-08-08 00:00:00...\n"
     ]
    }
   ],
   "source": [
    "data = []\n",
    "# Установить точку отсчета в мс\n",
    "since_timestamp = int(Stdate.timestamp() * 1000)\n",
    "# Запросить данные для каждой пары\n",
    "for pair in pairs:\n",
    "    print(f\"Fetching data for {pair} since {Stdate}...\")\n",
    "    ohlcv = exchange.fetch_ohlcv(pair, period, since=since_timestamp, limit=limit)\n",
    "    for candle in ohlcv:\n",
    "        data.append({\n",
    "            'pair': pair,\n",
    "            'timestamp': candle[0],\n",
    "            #'open': candle[1],\n",
    "            #'high': candle[2],\n",
    "            #'low': candle[3],\n",
    "            'close': candle[4],\n",
    "           # 'volume': candle[5]\n",
    "        })\n",
    "crypto = pd.DataFrame(data)\n",
    "# Конвертировать мс в дату\n",
    "crypto['date'] = pd.to_datetime(crypto['timestamp'], unit='ms')"
   ]
  },
  {
   "cell_type": "markdown",
   "id": "6e656918-4f87-4ef2-a673-024856da21f3",
   "metadata": {},
   "source": [
    "<font color=\"#108fff\" face=\"Arial\">1.3. Преобразовать таблицу к виду по аналогии с акциями.</font>"
   ]
  },
  {
   "cell_type": "code",
   "execution_count": null,
   "id": "f59f8bba-be95-4b2b-a001-b3f4cb9ca3c3",
   "metadata": {},
   "outputs": [],
   "source": [
    "crypto = crypto.pivot(index='date', columns='pair', values='close')"
   ]
  },
  {
   "cell_type": "markdown",
   "id": "15e19f5e-2291-47e7-a3e3-adbf5d526a77",
   "metadata": {},
   "source": [
    "<font color=\"red\" face=\"Arial\">Далее используется код из акций.</font><br>\n",
    "<font color=\"#108fff\" face=\"Arial\">1.4. Обработать пропуски.</font>"
   ]
  },
  {
   "cell_type": "code",
   "execution_count": 101,
   "id": "64ad1ec5-65cd-4dfe-8c25-3ad0a9188ee9",
   "metadata": {},
   "outputs": [],
   "source": [
    "#Установить порог данных с Null\n",
    "threshold = len(crypto) * 0.5\n",
    "#Удалить колонки за порогом\n",
    "crypto = crypto.dropna(axis=1, thresh=threshold)\n",
    "#Заменить пропуски последним значением\n",
    "crypto = crypto.ffill()\n",
    "#Заменить пропуски ближайшим следующим значением\n",
    "crypto = crypto.bfill()"
   ]
  },
  {
   "cell_type": "markdown",
   "id": "68f2d03d-91ba-4342-933b-23c34a348c9d",
   "metadata": {},
   "source": [
    "<font color=\"#108fff\" face=\"Arial\">1.5. Выгрузить данные в файл.</font>"
   ]
  },
  {
   "cell_type": "code",
   "execution_count": 106,
   "id": "cb358226-6839-41a5-9e0f-59b9279f13bd",
   "metadata": {},
   "outputs": [],
   "source": [
    "filename = f'crypto_{period}_{Stdate.strftime(\"%Y%m%d\")}_{Edate.strftime(\"%Y%m%d\")}.csv'\n",
    "crypto.to_csv(filename, header=True, index=True)"
   ]
  },
  {
   "cell_type": "markdown",
   "id": "84b6bbc8-6e2a-4d49-b153-a005bbf9a9f0",
   "metadata": {},
   "source": [
    "<font size=\"+1\" color=\"#108fff\" face=\"Arial\">2. Подготовить автоматическое отчеты.</font>"
   ]
  },
  {
   "cell_type": "code",
   "execution_count": 115,
   "id": "aae940ac-879c-4ecd-96a6-4091ae4ec400",
   "metadata": {},
   "outputs": [],
   "source": [
    "!pip install sweetviz -qq\n",
    "import sweetviz as sv"
   ]
  },
  {
   "cell_type": "code",
   "execution_count": 117,
   "id": "e9a53ab3-4c0d-428f-abab-470708f670fd",
   "metadata": {},
   "outputs": [
    {
     "data": {
      "application/vnd.jupyter.widget-view+json": {
       "model_id": "c4246ab1441f4cc3853b0a2145b628ca",
       "version_major": 2,
       "version_minor": 0
      },
      "text/plain": [
       "                                             |          | [  0%]   00:00 -> (? left)"
      ]
     },
     "metadata": {},
     "output_type": "display_data"
    },
    {
     "name": "stdout",
     "output_type": "stream",
     "text": [
      "Report crypto_report.html was generated! NOTEBOOK/COLAB USERS: the web browser MAY not pop up, regardless, the report IS saved in your notebook/colab files.\n"
     ]
    }
   ],
   "source": [
    "report = sv.analyze(crypto)\n",
    "report.show_html('crypto_report.html')"
   ]
  },
  {
   "cell_type": "code",
   "execution_count": 119,
   "id": "719a5681-8dd6-4eb8-b868-c357c733776a",
   "metadata": {},
   "outputs": [],
   "source": [
    "!pip install dtale -qq\n",
    "import dtale\n",
    "d = dtale.show(crypto)\n",
    "d.open_browser()"
   ]
  }
 ],
 "metadata": {
  "kernelspec": {
   "display_name": "Python 3 (ipykernel)",
   "language": "python",
   "name": "python3"
  },
  "language_info": {
   "codemirror_mode": {
    "name": "ipython",
    "version": 3
   },
   "file_extension": ".py",
   "mimetype": "text/x-python",
   "name": "python",
   "nbconvert_exporter": "python",
   "pygments_lexer": "ipython3",
   "version": "3.12.4"
  }
 },
 "nbformat": 4,
 "nbformat_minor": 5
}
